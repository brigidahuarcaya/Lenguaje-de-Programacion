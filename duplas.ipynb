{
  "nbformat": 4,
  "nbformat_minor": 0,
  "metadata": {
    "colab": {
      "provenance": [],
      "authorship_tag": "ABX9TyMm+Un/s0HbJR/x7oENiJ8+",
      "include_colab_link": true
    },
    "kernelspec": {
      "name": "python3",
      "display_name": "Python 3"
    },
    "language_info": {
      "name": "python"
    }
  },
  "cells": [
    {
      "cell_type": "markdown",
      "metadata": {
        "id": "view-in-github",
        "colab_type": "text"
      },
      "source": [
        "<a href=\"https://colab.research.google.com/github/brigidahuarcaya/Lenguaje-de-Programacion/blob/main/duplas.ipynb\" target=\"_parent\"><img src=\"https://colab.research.google.com/assets/colab-badge.svg\" alt=\"Open In Colab\"/></a>"
      ]
    },
    {
      "cell_type": "code",
      "execution_count": 1,
      "metadata": {
        "colab": {
          "base_uri": "https://localhost:8080/"
        },
        "id": "HC0CbI8OJYVL",
        "outputId": "b43c34ac-ec73-4a5c-9722-421f786b3d9f"
      },
      "outputs": [
        {
          "output_type": "stream",
          "name": "stdout",
          "text": [
            "(2, 4, 6, 8, 10)\n",
            "(5, 'juan', 10.4, 'A', -5.2)\n"
          ]
        }
      ],
      "source": [
        "a=(2, 4, 6, 8, 10,)\n",
        "print(a)\n",
        "b=(5,\"juan\",10.4,\"A\",-5.2)\n",
        "print(b)"
      ]
    },
    {
      "cell_type": "code",
      "source": [
        "tup =(1,['¿cuantos años tienes?'],25,'años')\n",
        "print(tup)\n",
        "# Este tupla contiene un número, una pregunta en español dentro de una lista, una edad, y la palabra 'años' en español."
      ],
      "metadata": {
        "colab": {
          "base_uri": "https://localhost:8080/"
        },
        "id": "a8GISJ2XKIYi",
        "outputId": "cfb6eb4b-86ae-42f3-dab9-cf09d1c8cc8b"
      },
      "execution_count": 15,
      "outputs": [
        {
          "output_type": "stream",
          "name": "stdout",
          "text": [
            "(1, ['¿cuantos años tienes?'], 25, 'años')\n"
          ]
        }
      ]
    },
    {
      "cell_type": "code",
      "source": [
        "a=len((5, \"a\", 10, 11.55))\n",
        "print(a)"
      ],
      "metadata": {
        "colab": {
          "base_uri": "https://localhost:8080/"
        },
        "id": "p0v65tfjLRAA",
        "outputId": "103cc65b-e2f8-427c-db97-74545657cf9c"
      },
      "execution_count": 3,
      "outputs": [
        {
          "output_type": "stream",
          "name": "stdout",
          "text": [
            "4\n"
          ]
        }
      ]
    },
    {
      "cell_type": "code",
      "source": [
        "a = ('juan', 'teresa', 'jasinto', 'maria', 'juana', 'marcos','antonio', 'nora')\n",
        "print(a)\n",
        "print(a[2])\n",
        "print(a[5])\n",
        "print(a[1])\n",
        "print(a[7])\n"
      ],
      "metadata": {
        "colab": {
          "base_uri": "https://localhost:8080/"
        },
        "id": "A0sLIOjNNyUZ",
        "outputId": "a536ebb9-46db-4ade-c397-a812596ce7bc"
      },
      "execution_count": 20,
      "outputs": [
        {
          "output_type": "stream",
          "name": "stdout",
          "text": [
            "('juan', 'teresa', 'jasinto', 'maria', 'juana', 'marcos', 'antonio', 'nora')\n",
            "jasinto\n",
            "marcos\n",
            "teresa\n",
            "nora\n"
          ]
        }
      ]
    },
    {
      "cell_type": "code",
      "source": [
        "a = (\"manzana\", \"platano\", \"cereza\", \"datil\", \"uva\", \"kiwi\")\n",
        "print(a[1:4])\n",
        "print(a[:])\n",
        "print(a[3:1])\n",
        "print(a[:2])"
      ],
      "metadata": {
        "colab": {
          "base_uri": "https://localhost:8080/"
        },
        "id": "RH3JjSdobsZx",
        "outputId": "839272da-40f9-4f74-8566-c775abc8b085"
      },
      "execution_count": 21,
      "outputs": [
        {
          "output_type": "stream",
          "name": "stdout",
          "text": [
            "('platano', 'cereza', 'datil')\n",
            "('manzana', 'platano', 'cereza', 'datil', 'uva', 'kiwi')\n",
            "()\n",
            "('manzana', 'platano')\n"
          ]
        }
      ]
    },
    {
      "cell_type": "code",
      "source": [
        "paises = [\"México\", \"Perú\", \"Chile\", \"México\", \"Argentina\", \"Chile\", \"México\", \"Perú\"]\n",
        "\n",
        "print(\"Lista de países:\", paises)\n",
        "\n",
        "# Contar cuántas veces aparece cada uno\n",
        "print(\"México aparece:\", paises.count(\"México\"), \"veces\")\n",
        "print(\"Perú aparece:\", paises.count(\"Perú\"), \"veces\")\n",
        "print(\"Chile aparece:\", paises.count(\"Chile\"), \"veces\")\n",
        "print(\"Argentina aparece:\", paises.count(\"Argentina\"), \"veces\")\n",
        "print(\"Brasil aparece:\", paises.count(\"Brasil\"), \"veces\")"
      ],
      "metadata": {
        "colab": {
          "base_uri": "https://localhost:8080/"
        },
        "id": "UGM-F_e-dYXY",
        "outputId": "0d558fb5-a0d8-461d-bc76-516dd37830e7"
      },
      "execution_count": 22,
      "outputs": [
        {
          "output_type": "stream",
          "name": "stdout",
          "text": [
            "Lista de países: ['México', 'Perú', 'Chile', 'México', 'Argentina', 'Chile', 'México', 'Perú']\n",
            "México aparece: 3 veces\n",
            "Perú aparece: 2 veces\n",
            "Chile aparece: 2 veces\n",
            "Argentina aparece: 1 veces\n",
            "Brasil aparece: 0 veces\n"
          ]
        }
      ]
    },
    {
      "cell_type": "code",
      "source": [
        "nombres = [\"karina\", \"brigida\", \"carlos\", \"habraam\", \"Luis\", \"Sofía\", \"Ana\"]\n",
        "\n",
        "print(\"Lista de nombres:\", nombres)\n",
        "\n",
        "# Obtener el índice de algunos nombres\n",
        "print(\"El índice de 'karina' es:\", nombres.index(\"karina\"))\n",
        "print(\"El índice de 'carlos' es:\", nombres.index(\"carlos\"))\n",
        "print(\"El índice de 'brigida' es:\", nombres.index(\"brigida\"))\n",
        "print(\"El índice de 'Sofía' es:\", nombres.index(\"Sofía\"))\n",
        "\n",
        "# Ejemplo de búsqueda en un rango (entre índices 2 y 6)\n",
        "print(\"El índice de 'Luis' entre 2 y 6 es:\", nombres.index(\"Luis\", 2, 6))"
      ],
      "metadata": {
        "colab": {
          "base_uri": "https://localhost:8080/"
        },
        "id": "FD3f999_gVdg",
        "outputId": "df907943-82aa-4ba0-af56-ef560f767cac"
      },
      "execution_count": 23,
      "outputs": [
        {
          "output_type": "stream",
          "name": "stdout",
          "text": [
            "Lista de nombres: ['karina', 'brigida', 'carlos', 'habraam', 'Luis', 'Sofía', 'Ana']\n",
            "El índice de 'karina' es: 0\n",
            "El índice de 'carlos' es: 2\n",
            "El índice de 'brigida' es: 1\n",
            "El índice de 'Sofía' es: 5\n",
            "El índice de 'Luis' entre 2 y 6 es: 4\n"
          ]
        }
      ]
    },
    {
      "cell_type": "code",
      "source": [
        "edades = (15, 18, 21, 16, 25, 18, 22, 30)\n",
        "\n",
        "print(\"Tupla de edades:\", edades)\n",
        "print(\"Primera edad:\", edades[0])\n",
        "print(\"Última edad:\", edades[-1])\n",
        "print(\"Primeras 3 edades:\", edades[:3])\n",
        "print(\"Edades de 2 en 2:\", edades[::2])\n",
        "print(\"Edades invertidas:\", edades[::-1])"
      ],
      "metadata": {
        "colab": {
          "base_uri": "https://localhost:8080/"
        },
        "id": "Wwm8nCfyhDAw",
        "outputId": "537b8975-df6d-4c91-ab69-88333af13012"
      },
      "execution_count": 24,
      "outputs": [
        {
          "output_type": "stream",
          "name": "stdout",
          "text": [
            "Tupla de edades: (15, 18, 21, 16, 25, 18, 22, 30)\n",
            "Primera edad: 15\n",
            "Última edad: 30\n",
            "Primeras 3 edades: (15, 18, 21)\n",
            "Edades de 2 en 2: (15, 21, 25, 22)\n",
            "Edades invertidas: (30, 22, 18, 25, 16, 21, 18, 15)\n"
          ]
        }
      ]
    }
  ]
}