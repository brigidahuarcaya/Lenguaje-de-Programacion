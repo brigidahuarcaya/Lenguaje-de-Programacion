{
  "nbformat": 4,
  "nbformat_minor": 0,
  "metadata": {
    "colab": {
      "provenance": [],
      "authorship_tag": "ABX9TyPvOS5fXFuwQq1a5Gogmru/",
      "include_colab_link": true
    },
    "kernelspec": {
      "name": "python3",
      "display_name": "Python 3"
    },
    "language_info": {
      "name": "python"
    }
  },
  "cells": [
    {
      "cell_type": "markdown",
      "metadata": {
        "id": "view-in-github",
        "colab_type": "text"
      },
      "source": [
        "<a href=\"https://colab.research.google.com/github/brigidahuarcaya/Lenguaje-de-Programacion/blob/main/Untitled5.ipynb\" target=\"_parent\"><img src=\"https://colab.research.google.com/assets/colab-badge.svg\" alt=\"Open In Colab\"/></a>"
      ]
    },
    {
      "cell_type": "code",
      "execution_count": 1,
      "metadata": {
        "colab": {
          "base_uri": "https://localhost:8080/"
        },
        "id": "3SDHxdSYC8JA",
        "outputId": "c3d22a7c-c3c1-43b5-8daf-00b919217430"
      },
      "outputs": [
        {
          "output_type": "stream",
          "name": "stdout",
          "text": [
            "['Martes', 'Miércoles', 'Jueves']\n",
            "['Viernes']\n",
            "[]\n",
            "['Lunes', 'Martes', 'Miércoles', 'Jueves']\n",
            "['Viernes', 'Sábado', 'Domingo']\n",
            "['Lunes', 'Martes', 'Miércoles', 'Jueves', 'Viernes', 'Sábado', 'Domingo']\n"
          ]
        }
      ],
      "source": [
        "dias=[\"Lunes\",\"Martes\",\"Miércoles\",\"Jueves\",\"Viernes\",\"Sábado\",\"Domingo\"]\n",
        "print(dias[1:4]) # Se extrae una lista con los valores 1, 2 y 3\n",
        "print(dias[4:5]) # Se extrae una lista con el valor 4\n",
        "print(dias[4:4]) # Se extrae una lista vacía\n",
        "print(dias[:4]) # Se extrae una lista hasta el valor 4 (no incluido)\n",
        "print(dias[4:]) # Se extrae una lista desde el valor 4 (incluido)\n",
        "print(dias[:])  # Se extrae una lista con todos los valores"
      ]
    },
    {
      "cell_type": "code",
      "source": [
        "letras = [\"A\", \"B\", \"C\", \"D\", \"E\", \"F\", \"G\", \"H\"]\n",
        "letras[1:4] = [\"X\"] #Se sustituye la sublista ['B','C','D'] por ['X']\n",
        "print(letras)\n",
        "letras[1:4]=[\"Y\",\"Z\"]#sustituye ['X','E','F'] por ['Y','Z']\n",
        "print(letras)\n",
        "letras[0:1] = [\"Q\"] # Se sustituye la sublista ['A'] por ['Q']\n",
        "print(letras)\n",
        "letras[3:3]=[\"U\",\"V\"]# Inserta la lista ['U','V'] en la posición 3\n",
        "print(letras)\n",
        "letras[0:3] = [] # Elimina la sublista ['Q','Y', 'Z']\n",
        "print(letras)"
      ],
      "metadata": {
        "colab": {
          "base_uri": "https://localhost:8080/"
        },
        "id": "MQ1iHi8XDOOK",
        "outputId": "1a9d08f3-c92d-4c0f-de8c-b2dce569b39b"
      },
      "execution_count": 2,
      "outputs": [
        {
          "output_type": "stream",
          "name": "stdout",
          "text": [
            "['A', 'X', 'E', 'F', 'G', 'H']\n",
            "['A', 'Y', 'Z', 'G', 'H']\n",
            "['Q', 'Y', 'Z', 'G', 'H']\n",
            "['Q', 'Y', 'Z', 'U', 'V', 'G', 'H']\n",
            "['U', 'V', 'G', 'H']\n"
          ]
        }
      ]
    },
    {
      "cell_type": "code",
      "source": [
        "letras = [\"D\", \"E\", \"F\"]\n",
        "letras[3:3] = [\"G\", \"H\"]           # Añade [\"G\", \"H\"] al final de la lista\n",
        "print(letras)\n",
        "letras[100:100] = [\"I\", \"J\"]       # Añade [\"I\", \"J\"] al final de la lista\n",
        "print(letras)\n",
        "letras[-100:-50]=[\"A\", \"B\", \"C\"] #Añade [\"A\", \"B\", \"C\"] al principio de la lista\n",
        "print(letras)"
      ],
      "metadata": {
        "colab": {
          "base_uri": "https://localhost:8080/"
        },
        "id": "IREIjL07DUB4",
        "outputId": "27b99ea4-5fbc-459c-d5b8-161d75683998"
      },
      "execution_count": 3,
      "outputs": [
        {
          "output_type": "stream",
          "name": "stdout",
          "text": [
            "['D', 'E', 'F', 'G', 'H']\n",
            "['D', 'E', 'F', 'G', 'H', 'I', 'J']\n",
            "['A', 'B', 'C', 'D', 'E', 'F', 'G', 'H', 'I', 'J']\n"
          ]
        }
      ]
    },
    {
      "cell_type": "code",
      "source": [
        "letras = [\"A\", \"B\", \"C\", \"D\", \"E\", \"F\", \"G\", \"H\"]\n",
        "del letras[4]   # Elimina la sublista ['E']\n",
        "print(letras)\n",
        "del letras[1:4] # Elimina la sublista ['B', 'C', 'D']\n",
        "print(letras)\n",
        "del (letras[0:10])      # Elimina completamente la lista\n",
        "print(letras)"
      ],
      "metadata": {
        "colab": {
          "base_uri": "https://localhost:8080/"
        },
        "id": "RlnYuvunDbYh",
        "outputId": "73b9161e-fff8-4fa6-91ac-4ade4a56642d"
      },
      "execution_count": 4,
      "outputs": [
        {
          "output_type": "stream",
          "name": "stdout",
          "text": [
            "['A', 'B', 'C', 'D', 'F', 'G', 'H']\n",
            "['A', 'F', 'G', 'H']\n",
            "[]\n"
          ]
        }
      ]
    },
    {
      "cell_type": "code",
      "source": [
        "letras = [\"A\", \"B\", \"C\", \"D\", \"E\", \"F\", \"G\", \"H\"]\n",
        "del letras[100:200] # No elimina nada\n",
        "print(letras)"
      ],
      "metadata": {
        "colab": {
          "base_uri": "https://localhost:8080/"
        },
        "id": "dF-0iPmTDir4",
        "outputId": "c5e26311-8bc7-49f1-aeb3-e6dcec480558"
      },
      "execution_count": 5,
      "outputs": [
        {
          "output_type": "stream",
          "name": "stdout",
          "text": [
            "['A', 'B', 'C', 'D', 'E', 'F', 'G', 'H']\n"
          ]
        }
      ]
    },
    {
      "cell_type": "code",
      "source": [
        "a = 5\n",
        "b = a # Hacemos una copia del valor de a\n",
        "print(a, b)\n",
        "a = 4 # de manera que aunque cambiemos el valor de a ...\n",
        "print(a, b) # conserva el valor anterior de a en caso de necesitarlo"
      ],
      "metadata": {
        "colab": {
          "base_uri": "https://localhost:8080/"
        },
        "id": "a42XTvfrDlTB",
        "outputId": "c2916a32-2051-4d83-d6e9-44b9380ad668"
      },
      "execution_count": 9,
      "outputs": [
        {
          "output_type": "stream",
          "name": "stdout",
          "text": [
            "5 5\n",
            "4 5\n"
          ]
        }
      ]
    },
    {
      "cell_type": "code",
      "source": [
        "lista1 = [\"A\", \"B\", \"C\"]\n",
        "lista2 = lista1 # Intentamos hacer una copia de la lista lista1\n",
        "print(lista1, lista2)\n",
        "del lista1[1]   # Eliminamos el elemento ['B'] de la lista lista1 ...\n",
        "print(lista1, lista2) # también ha desaparecido de la lista lista2"
      ],
      "metadata": {
        "colab": {
          "base_uri": "https://localhost:8080/"
        },
        "id": "nx7W1UlND9ty",
        "outputId": "531726e4-76ab-4cbb-c6d7-5829143c0cde"
      },
      "execution_count": 10,
      "outputs": [
        {
          "output_type": "stream",
          "name": "stdout",
          "text": [
            "['A', 'B', 'C'] ['A', 'B', 'C']\n",
            "['A', 'C'] ['A', 'C']\n"
          ]
        }
      ]
    },
    {
      "cell_type": "code",
      "source": [
        "lista1 = [\"A\", \"B\", \"C\"]\n",
        "lista2 = lista1[:] # Hacemos una copia de la lista lista1\n",
        "print(lista1, lista2)\n",
        "del lista1[1] # Eliminamos el elemento ['B'] de la lista lista1\n",
        "print(lista1, lista2)# lista2 sigue conservando el valor original de lista1"
      ],
      "metadata": {
        "colab": {
          "base_uri": "https://localhost:8080/"
        },
        "id": "cc5UVPy2EDm6",
        "outputId": "8d06135b-b515-4877-b9f7-860c867ba971"
      },
      "execution_count": 11,
      "outputs": [
        {
          "output_type": "stream",
          "name": "stdout",
          "text": [
            "['A', 'B', 'C'] ['A', 'B', 'C']\n",
            "['A', 'C'] ['A', 'B', 'C']\n"
          ]
        }
      ]
    },
    {
      "cell_type": "code",
      "source": [
        "a=(1,2,3,4)\n",
        "print(a)\n",
        "b=(5,\"cetpro\",4.7,\"A\",-6.2)\n",
        "print(b)"
      ],
      "metadata": {
        "colab": {
          "base_uri": "https://localhost:8080/"
        },
        "id": "4oDkkQ5FEY-x",
        "outputId": "1a16f817-e980-49da-966a-cb7412ba3d2c"
      },
      "execution_count": 12,
      "outputs": [
        {
          "output_type": "stream",
          "name": "stdout",
          "text": [
            "(1, 2, 3, 4)\n",
            "(5, 'cetpro', 4.7, 'A', -6.2)\n"
          ]
        }
      ]
    },
    {
      "cell_type": "code",
      "source": [
        "a=1,2,3,4\n",
        "print(a)\n",
        "b=5,\"cetpro\",4.7,\"A\",-6.2\n",
        "print(b)"
      ],
      "metadata": {
        "colab": {
          "base_uri": "https://localhost:8080/"
        },
        "id": "7XU6c5_5Ed4a",
        "outputId": "50befd22-e9dc-4cee-b8fc-21957b0aac12"
      },
      "execution_count": 13,
      "outputs": [
        {
          "output_type": "stream",
          "name": "stdout",
          "text": [
            "(1, 2, 3, 4)\n",
            "(5, 'cetpro', 4.7, 'A', -6.2)\n"
          ]
        }
      ]
    },
    {
      "cell_type": "code",
      "source": [
        "tup =(1,['a','e','i','o','u'],8.9,'hola')\n",
        "print(tup)"
      ],
      "metadata": {
        "colab": {
          "base_uri": "https://localhost:8080/"
        },
        "id": "7aFthGCpEhai",
        "outputId": "82e23dfb-883a-4c1a-c6af-dac0c93338c4"
      },
      "execution_count": 14,
      "outputs": [
        {
          "output_type": "stream",
          "name": "stdout",
          "text": [
            "(1, ['a', 'e', 'i', 'o', 'u'], 8.9, 'hola')\n"
          ]
        }
      ]
    },
    {
      "cell_type": "code",
      "source": [
        "a=len((1, \"a\", 3.14))\n",
        "print(a)"
      ],
      "metadata": {
        "colab": {
          "base_uri": "https://localhost:8080/"
        },
        "id": "jLIFY2D1Eq5x",
        "outputId": "263ca174-e073-45bd-9127-fbb3313868cc"
      },
      "execution_count": 15,
      "outputs": [
        {
          "output_type": "stream",
          "name": "stdout",
          "text": [
            "3\n"
          ]
        }
      ]
    },
    {
      "cell_type": "code",
      "source": [
        "a=( )\n",
        "print(a)\n",
        "print(len(()))"
      ],
      "metadata": {
        "colab": {
          "base_uri": "https://localhost:8080/"
        },
        "id": "LmIJzgUCFG2x",
        "outputId": "f8560f2a-2c89-449e-da92-ca76d93638a0"
      },
      "execution_count": 16,
      "outputs": [
        {
          "output_type": "stream",
          "name": "stdout",
          "text": [
            "()\n",
            "0\n"
          ]
        }
      ]
    },
    {
      "cell_type": "code",
      "source": [
        "a=(3)\n",
        "print(3)\n",
        "print(3,)\n",
        "print(len((a,)))\n",
        "print(len((6,)))"
      ],
      "metadata": {
        "colab": {
          "base_uri": "https://localhost:8080/"
        },
        "id": "xSMge45lFLyZ",
        "outputId": "6dd60fed-b147-43a1-f33c-8f59105a743b"
      },
      "execution_count": 17,
      "outputs": [
        {
          "output_type": "stream",
          "name": "stdout",
          "text": [
            "3\n",
            "3\n",
            "1\n",
            "1\n"
          ]
        }
      ]
    },
    {
      "cell_type": "code",
      "source": [
        "a = (1,2,3,4,5)\n",
        "b = (6,7,8,9,10)\n",
        "print(a,b)\n",
        "c=a+b\n",
        "print(c)"
      ],
      "metadata": {
        "colab": {
          "base_uri": "https://localhost:8080/"
        },
        "id": "KOhUOEYMFQ0p",
        "outputId": "82c79f2d-e2f0-435f-9be3-13c5f7c68c1a"
      },
      "execution_count": 18,
      "outputs": [
        {
          "output_type": "stream",
          "name": "stdout",
          "text": [
            "(1, 2, 3, 4, 5) (6, 7, 8, 9, 10)\n",
            "(1, 2, 3, 4, 5, 6, 7, 8, 9, 10)\n"
          ]
        }
      ]
    },
    {
      "cell_type": "code",
      "source": [
        "a = (10,11,12)\n",
        "print(a*3)"
      ],
      "metadata": {
        "colab": {
          "base_uri": "https://localhost:8080/"
        },
        "id": "R0BSw3-7FTgR",
        "outputId": "961291cd-ccfe-4f5f-c901-dea841338401"
      },
      "execution_count": 19,
      "outputs": [
        {
          "output_type": "stream",
          "name": "stdout",
          "text": [
            "(10, 11, 12, 10, 11, 12, 10, 11, 12)\n"
          ]
        }
      ]
    },
    {
      "cell_type": "code",
      "source": [
        "a = (10,11,12)\n",
        "print(a*3)\n",
        "print(7 in a)"
      ],
      "metadata": {
        "colab": {
          "base_uri": "https://localhost:8080/"
        },
        "id": "UlUPkeG8FV_Z",
        "outputId": "fb7b8649-3c98-4438-c572-94cd248c148d"
      },
      "execution_count": 20,
      "outputs": [
        {
          "output_type": "stream",
          "name": "stdout",
          "text": [
            "(10, 11, 12, 10, 11, 12, 10, 11, 12)\n",
            "False\n"
          ]
        }
      ]
    },
    {
      "cell_type": "code",
      "source": [
        "a = (10,11,12)\n",
        "print(a*2)\n",
        "print(7 in a)\n",
        "print(a.index(12))"
      ],
      "metadata": {
        "colab": {
          "base_uri": "https://localhost:8080/"
        },
        "id": "BXxneW_HFd45",
        "outputId": "7a1509e5-1247-4500-df0a-072584588e64"
      },
      "execution_count": 21,
      "outputs": [
        {
          "output_type": "stream",
          "name": "stdout",
          "text": [
            "(10, 11, 12, 10, 11, 12)\n",
            "False\n",
            "2\n"
          ]
        }
      ]
    },
    {
      "cell_type": "code",
      "source": [
        "a = (10,11,12,10,15,10,11)\n",
        "print(a)\n",
        "print(15 in a)\n",
        "print(a.count(10))"
      ],
      "metadata": {
        "colab": {
          "base_uri": "https://localhost:8080/"
        },
        "id": "JsM2KLZaFgwx",
        "outputId": "4d9d0f83-824d-439f-b80c-f6f9a6781074"
      },
      "execution_count": 22,
      "outputs": [
        {
          "output_type": "stream",
          "name": "stdout",
          "text": [
            "(10, 11, 12, 10, 15, 10, 11)\n",
            "True\n",
            "3\n"
          ]
        }
      ]
    },
    {
      "cell_type": "code",
      "source": [
        "a = (10,11,12,10,15,10,11)\n",
        "print(a)\n",
        "print(a[3])\n",
        "print(a[2])\n",
        "print(a[4])"
      ],
      "metadata": {
        "colab": {
          "base_uri": "https://localhost:8080/"
        },
        "id": "tWgrfiaxFj5R",
        "outputId": "e5cee92a-24d4-4b24-ad8f-482a36ad06da"
      },
      "execution_count": 23,
      "outputs": [
        {
          "output_type": "stream",
          "name": "stdout",
          "text": [
            "(10, 11, 12, 10, 15, 10, 11)\n",
            "10\n",
            "12\n",
            "15\n"
          ]
        }
      ]
    },
    {
      "cell_type": "code",
      "source": [
        "a = (10,11,12,13,14,15,16)\n",
        "print(a[2:4])#Elementos desde el índice 2 hasta el índice 3-1\n",
        "print(a[:])  # Todos los elementos\n",
        "print(a[1:])  # Elementos desde el índice 1\n",
        "print(a[:3])  # Elementos hasta el índice 3-1"
      ],
      "metadata": {
        "colab": {
          "base_uri": "https://localhost:8080/"
        },
        "id": "_Kq040M-FpBq",
        "outputId": "c0a190dd-0d56-486d-e6d7-8fbab140f6fb"
      },
      "execution_count": 24,
      "outputs": [
        {
          "output_type": "stream",
          "name": "stdout",
          "text": [
            "(12, 13)\n",
            "(10, 11, 12, 13, 14, 15, 16)\n",
            "(11, 12, 13, 14, 15, 16)\n",
            "(10, 11, 12)\n"
          ]
        }
      ]
    },
    {
      "cell_type": "code",
      "source": [
        "a = (10,11,12,13,14,15,16)\n",
        "print(a[2:4])#Elementos desde el índice 2 hasta el índice 3-1\n",
        "print(a[:])  # Todos los elementos\n",
        "print(a[1:])  # Elementos desde el índice 1\n",
        "print(a[:3])  # Elementos hasta el índice 3-1"
      ],
      "metadata": {
        "colab": {
          "base_uri": "https://localhost:8080/"
        },
        "id": "6Q7WBqjZFsxC",
        "outputId": "15464c1d-4f7b-4d14-f39a-5f07a83e73d0"
      },
      "execution_count": 25,
      "outputs": [
        {
          "output_type": "stream",
          "name": "stdout",
          "text": [
            "(12, 13)\n",
            "(10, 11, 12, 13, 14, 15, 16)\n",
            "(11, 12, 13, 14, 15, 16)\n",
            "(10, 11, 12)\n"
          ]
        }
      ]
    },
    {
      "cell_type": "code",
      "source": [
        "par = 2, 4, 6, 8, 10, 12, 14\n",
        "print(par[::2])  #Acceso a los elementos de 2 en 2\n",
        "print(par[1:5:2])#Elementos del índice 1 al 4 de 2 en 2\n",
        "print(par[1:6:3])#Elementos del índice 1 al 5 de 3 en 3"
      ],
      "metadata": {
        "colab": {
          "base_uri": "https://localhost:8080/"
        },
        "id": "FCoe0SzrFzyK",
        "outputId": "b49d3bab-007c-4b33-8bfa-6682ab4f2037"
      },
      "execution_count": 26,
      "outputs": [
        {
          "output_type": "stream",
          "name": "stdout",
          "text": [
            "(2, 6, 10, 14)\n",
            "(4, 8)\n",
            "(4, 10)\n"
          ]
        }
      ]
    },
    {
      "cell_type": "code",
      "source": [
        "\n",
        "tupla = (1, ['a', 'b'], 'cetpro', 8.2)\n",
        "tupla[1].append('c') #tupla[1] hace referencia\n",
        "\"alalista\"\n",
        "print(tupla)"
      ],
      "metadata": {
        "colab": {
          "base_uri": "https://localhost:8080/"
        },
        "id": "zAWuoYQ2F9xA",
        "outputId": "555a184c-0886-49ee-f5e6-0b919103c1ae"
      },
      "execution_count": 33,
      "outputs": [
        {
          "output_type": "stream",
          "name": "stdout",
          "text": [
            "(1, ['a', 'b', 'c'], 'cetpro', 8.2)\n"
          ]
        }
      ]
    }
  ]
}